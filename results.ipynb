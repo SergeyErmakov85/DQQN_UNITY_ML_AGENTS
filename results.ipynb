{
 "cells": [
  {
   "cell_type": "markdown",
   "metadata": {
    "id": "Edd-q6mX6VqP"
   },
   "source": [
    "## 1: First we import the required modules"
   ]
  },
  {
   "cell_type": "code",
   "execution_count": 1,
   "metadata": {
    "executionInfo": {
     "elapsed": 4083,
     "status": "ok",
     "timestamp": 1620124007853,
     "user": {
      "displayName": "Сергей Ермаков",
      "photoUrl": "https://lh3.googleusercontent.com/a-/AOh14GhDLZatWggOFCcuJ_EJUe77HMYNklsWKqPp3Bna4LE=s64",
      "userId": "05444438761806185124"
     },
     "user_tz": -180
    },
    "id": "8RWOS0F56VqV"
   },
   "outputs": [],
   "source": [
    "import torch\n",
    "# import graphviz\n",
    "# from graphviz import Digraph"
   ]
  },
  {
   "cell_type": "code",
   "execution_count": 1,
   "metadata": {
    "colab": {
     "base_uri": "https://localhost:8080/"
    },
    "executionInfo": {
     "elapsed": 4520,
     "status": "ok",
     "timestamp": 1620124405802,
     "user": {
      "displayName": "Сергей Ермаков",
      "photoUrl": "https://lh3.googleusercontent.com/a-/AOh14GhDLZatWggOFCcuJ_EJUe77HMYNklsWKqPp3Bna4LE=s64",
      "userId": "05444438761806185124"
     },
     "user_tz": -180
    },
    "id": "EaJSQp527Fdy",
    "outputId": "214eb95f-327c-4b4e-9ee1-66f3df503ca4"
   },
   "outputs": [],
   "source": [
    "# pip install mlagents"
   ]
  },
  {
   "cell_type": "code",
   "execution_count": 2,
   "metadata": {
    "colab": {
     "base_uri": "https://localhost:8080/"
    },
    "executionInfo": {
     "elapsed": 16126,
     "status": "ok",
     "timestamp": 1620124769165,
     "user": {
      "displayName": "Сергей Ермаков",
      "photoUrl": "https://lh3.googleusercontent.com/a-/AOh14GhDLZatWggOFCcuJ_EJUe77HMYNklsWKqPp3Bna4LE=s64",
      "userId": "05444438761806185124"
     },
     "user_tz": -180
    },
    "id": "7fR6AKiG9ERP",
    "outputId": "b6ae4dfc-8e03-472a-dcd7-c56f8f481010"
   },
   "outputs": [],
   "source": [
    "# pip install --upgrade https://storage.googleapis.com/tensorflow/mac/cpu/tensorflow-1.7.1-py3-none-any.whl"
   ]
  },
  {
   "cell_type": "code",
   "execution_count": 3,
   "metadata": {
    "colab": {
     "base_uri": "https://localhost:8080/",
     "height": 1000
    },
    "executionInfo": {
     "elapsed": 132423,
     "status": "ok",
     "timestamp": 1620124910589,
     "user": {
      "displayName": "Сергей Ермаков",
      "photoUrl": "https://lh3.googleusercontent.com/a-/AOh14GhDLZatWggOFCcuJ_EJUe77HMYNklsWKqPp3Bna4LE=s64",
      "userId": "05444438761806185124"
     },
     "user_tz": -180
    },
    "id": "hS6hp2GY816g",
    "outputId": "dc15f0e6-2aa4-4142-c816-41cb62a93523"
   },
   "outputs": [],
   "source": [
    "# pip install unityagents"
   ]
  },
  {
   "cell_type": "code",
   "execution_count": 4,
   "metadata": {
    "colab": {
     "base_uri": "https://localhost:8080/"
    },
    "executionInfo": {
     "elapsed": 3808,
     "status": "ok",
     "timestamp": 1620126742452,
     "user": {
      "displayName": "Сергей Ермаков",
      "photoUrl": "https://lh3.googleusercontent.com/a-/AOh14GhDLZatWggOFCcuJ_EJUe77HMYNklsWKqPp3Bna4LE=s64",
      "userId": "05444438761806185124"
     },
     "user_tz": -180
    },
    "id": "S0Vsg5gc-RJg",
    "outputId": "fbbc4683-bb6f-44f8-f0ac-1dbf29e848b0"
   },
   "outputs": [],
   "source": [
    "# pip install torchviz"
   ]
  },
  {
   "cell_type": "code",
   "execution_count": null,
   "metadata": {
    "colab": {
     "base_uri": "https://localhost:8080/",
     "height": 363
    },
    "executionInfo": {
     "elapsed": 505,
     "status": "error",
     "timestamp": 1620126745490,
     "user": {
      "displayName": "Сергей Ермаков",
      "photoUrl": "https://lh3.googleusercontent.com/a-/AOh14GhDLZatWggOFCcuJ_EJUe77HMYNklsWKqPp3Bna4LE=s64",
      "userId": "05444438761806185124"
     },
     "user_tz": -180
    },
    "id": "8hkwqBiJ6VqW",
    "outputId": "d6152007-2560-41d8-f715-e4a6503eeaa1"
   },
   "outputs": [],
   "source": [
    "import random\n",
    "import torch\n",
    "from torch import nn\n",
    "from model import DuelingDQN\n",
    "from model import DQN\n",
    "import numpy as np\n",
    "from collections import deque\n",
    "import matplotlib.pyplot as plt\n",
    "%matplotlib inline\n"
   ]
  },
  {
   "cell_type": "code",
   "execution_count": 3,
   "metadata": {},
   "outputs": [],
   "source": [
    "from mlagents_envs.environment import UnityEnvironment\n",
    "import matplotlib.pyplot as plt\n",
    "from IPython.display import clear_output\n",
    "import time\n",
    "\n",
    "%matplotlib inline"
   ]
  },
  {
   "cell_type": "code",
   "execution_count": 1,
   "metadata": {},
   "outputs": [],
   "source": [
    "import fnn_model"
   ]
  },
  {
   "cell_type": "code",
   "execution_count": 2,
   "metadata": {},
   "outputs": [],
   "source": [
    "from fnn_model import FNN_Model"
   ]
  },
  {
   "cell_type": "markdown",
   "metadata": {
    "id": "vvBuGclp6VqW"
   },
   "source": [
    "## 2: Before you run the next cell make sure you have done the following:\n",
    "- Downloaded the required environment for your operating system. Details in README.MD\n",
    "- Extracted the enviroment and placed folder into same directory as results.ipynb\n",
    "- Change the arg: \"file_name\" below to the correct environment path if required. \n",
    "\n",
    "The following cell initiates the Unity environment "
   ]
  },
  {
   "cell_type": "code",
   "execution_count": null,
   "metadata": {
    "id": "1ZeQBwOt6VqW",
    "outputId": "2a90c3f2-54ba-4e7f-c2e2-5cf371c1f3fe"
   },
   "outputs": [
    {
     "ename": "UnityEnvironmentException",
     "evalue": "Couldn't launch the ../Builds/FoodCollector/FoodCollector.exe environment. Provided filename does not match any environments.",
     "output_type": "error",
     "traceback": [
      "\u001b[1;31m---------------------------------------------------------------------------\u001b[0m",
      "\u001b[1;31mUnityEnvironmentException\u001b[0m                 Traceback (most recent call last)",
      "Cell \u001b[1;32mIn[4], line 2\u001b[0m\n\u001b[0;32m      1\u001b[0m \u001b[39m# env = UnityEnvironment(file_name=\"Banana_Windows_x86_64/Banana\")\u001b[39;00m\n\u001b[1;32m----> 2\u001b[0m env \u001b[39m=\u001b[39m UnityEnvironment(file_name\u001b[39m=\u001b[39;49m\u001b[39m\"\u001b[39;49m\u001b[39m../Builds/FoodCollector/FoodCollector.exe\u001b[39;49m\u001b[39m\"\u001b[39;49m)\n",
      "File \u001b[1;32mc:\\Users\\User\\anaconda3\\envs\\robodriver\\lib\\site-packages\\mlagents_envs\\environment.py:215\u001b[0m, in \u001b[0;36mUnityEnvironment.__init__\u001b[1;34m(self, file_name, worker_id, base_port, seed, no_graphics, timeout_wait, additional_args, side_channels, log_folder, num_areas)\u001b[0m\n\u001b[0;32m    213\u001b[0m \u001b[39mif\u001b[39;00m file_name \u001b[39mis\u001b[39;00m \u001b[39mnot\u001b[39;00m \u001b[39mNone\u001b[39;00m:\n\u001b[0;32m    214\u001b[0m     \u001b[39mtry\u001b[39;00m:\n\u001b[1;32m--> 215\u001b[0m         \u001b[39mself\u001b[39m\u001b[39m.\u001b[39m_process \u001b[39m=\u001b[39m env_utils\u001b[39m.\u001b[39;49mlaunch_executable(\n\u001b[0;32m    216\u001b[0m             file_name, \u001b[39mself\u001b[39;49m\u001b[39m.\u001b[39;49m_executable_args()\n\u001b[0;32m    217\u001b[0m         )\n\u001b[0;32m    218\u001b[0m     \u001b[39mexcept\u001b[39;00m UnityEnvironmentException:\n\u001b[0;32m    219\u001b[0m         \u001b[39mself\u001b[39m\u001b[39m.\u001b[39m_close(\u001b[39m0\u001b[39m)\n",
      "File \u001b[1;32mc:\\Users\\User\\anaconda3\\envs\\robodriver\\lib\\site-packages\\mlagents_envs\\env_utils.py:101\u001b[0m, in \u001b[0;36mlaunch_executable\u001b[1;34m(file_name, args)\u001b[0m\n\u001b[0;32m     99\u001b[0m launch_string \u001b[39m=\u001b[39m validate_environment_path(file_name)\n\u001b[0;32m    100\u001b[0m \u001b[39mif\u001b[39;00m launch_string \u001b[39mis\u001b[39;00m \u001b[39mNone\u001b[39;00m:\n\u001b[1;32m--> 101\u001b[0m     \u001b[39mraise\u001b[39;00m UnityEnvironmentException(\n\u001b[0;32m    102\u001b[0m         \u001b[39mf\u001b[39m\u001b[39m\"\u001b[39m\u001b[39mCouldn\u001b[39m\u001b[39m'\u001b[39m\u001b[39mt launch the \u001b[39m\u001b[39m{\u001b[39;00mfile_name\u001b[39m}\u001b[39;00m\u001b[39m environment. Provided filename does not match any environments.\u001b[39m\u001b[39m\"\u001b[39m\n\u001b[0;32m    103\u001b[0m     )\n\u001b[0;32m    104\u001b[0m \u001b[39melse\u001b[39;00m:\n\u001b[0;32m    105\u001b[0m     logger\u001b[39m.\u001b[39mdebug(\u001b[39mf\u001b[39m\u001b[39m\"\u001b[39m\u001b[39mThe launch string is \u001b[39m\u001b[39m{\u001b[39;00mlaunch_string\u001b[39m}\u001b[39;00m\u001b[39m\"\u001b[39m)\n",
      "\u001b[1;31mUnityEnvironmentException\u001b[0m: Couldn't launch the ../Builds/FoodCollector/FoodCollector.exe environment. Provided filename does not match any environments."
     ]
    }
   ],
   "source": [
    "from mlagents_envs.environment import UnityEnvironment\n",
    "\n",
    "env = UnityEnvironment(file_name=\"Banana_Windows_x86_64/Banana\")\n",
    "env.reset()"
   ]
  },
  {
   "cell_type": "markdown",
   "metadata": {
    "id": "D2NEkX_y6VqX"
   },
   "source": [
    "## 3:Now we create the brain to interact with the environment"
   ]
  },
  {
   "cell_type": "code",
   "execution_count": 4,
   "metadata": {
    "id": "5AlF9Zy56VqX"
   },
   "outputs": [],
   "source": [
    "# get the default brain\n",
    "brain_name = env.brain_names[0]\n",
    "brain = env.brains[brain_name]"
   ]
  },
  {
   "cell_type": "markdown",
   "metadata": {
    "id": "0nGtKP1H6VqY"
   },
   "source": [
    "## 4: Next cell provides a simple example of the environment and prints out the following:\n",
    "- Number of Agents(brains), \n",
    "- The number of actions 4(forwards, backward, left, right) \n",
    "- The State as a vector\n",
    "- the length of the State vector"
   ]
  },
  {
   "cell_type": "code",
   "execution_count": 24,
   "metadata": {
    "id": "-hXasEbp6VqY",
    "outputId": "c52ac400-5c9f-4bdf-9fb2-264fb67e028f"
   },
   "outputs": [
    {
     "name": "stdout",
     "output_type": "stream",
     "text": [
      "Number of agents: 1\n",
      "Number of actions: 4\n",
      "States look like: [0.         0.         0.         1.         0.         0.\n",
      " 0.         1.         0.         0.28421077 0.         1.\n",
      " 0.         0.         0.20498358 0.         1.         0.\n",
      " 0.         0.62879598 0.         1.         0.         0.\n",
      " 0.27240798 0.         1.         0.         0.         0.4731611\n",
      " 0.         0.         1.         0.         0.19924538 0.\n",
      " 0.        ]\n",
      "States have length: 37\n"
     ]
    }
   ],
   "source": [
    "# reset the environment\n",
    "env_info = env.reset(train_mode=True)[brain_name]\n",
    "\n",
    "# number of agents in the environment\n",
    "print('Number of agents:', len(env_info.agents))\n",
    "\n",
    "# number of actions\n",
    "action_size = brain.vector_action_space_size\n",
    "print('Number of actions:', action_size)\n",
    "\n",
    "# examine the state space \n",
    "state = env_info.vector_observations[0]\n",
    "print('States look like:', state)\n",
    "state_size = len(state)\n",
    "print('States have length:', state_size)"
   ]
  },
  {
   "cell_type": "markdown",
   "metadata": {
    "id": "4vFxkFxa6VqY"
   },
   "source": [
    "## 5: We now import the Agent and assign it a variable\n",
    "\n",
    "There are three implementation that can be called with the arg:network\n",
    "- \"dqn\" = Vanilla DQN\n",
    "- \"double\" = Double DQN\n",
    "- \"duel\" = Dueling DDQN\n",
    "\n",
    "\n",
    "The Hyperparamters for all Agents variations have been set to the following. I played with the hyperparamters and trainined endless versions but decied these worked the best. If getting to the score of 13 was the most important than increasing the TAU, LR or eps_decay increased the traninig speeds but did not reach as high scores. A score of 13 could be achieved in as little as 122 episodes but this varied massivly between each training. The below achieved very consistant scores that trained fast and achieved a final score of 17 or more. \n",
    "\n",
    "    ```\n",
    "\tBUFFER_SIZE = 100000  # replay buffer size\n",
    "    BATCH_SIZE = 64         # minibatch size\n",
    "    GAMMA = 0.99            # discount factor\n",
    "    TAU = 0.01              # for soft update of target parameters\n",
    "    LR = 0.0005              # learning rate \n",
    "    UPDATE_EVERY = 4        # how often to update the network\n",
    "    \n",
    "    eps_start=1.0           #Initital epsilon for Epsilon greedy Action\n",
    "    eps_end=0.01            #Minimun Epsilon \n",
    "    eps_decay=0.95          #Epsilon decay rate\n",
    "\t```\n"
   ]
  },
  {
   "cell_type": "code",
   "execution_count": 25,
   "metadata": {
    "id": "ed1GW6z06VqZ"
   },
   "outputs": [],
   "source": [
    "from agent import Agent\n",
    "\n",
    "agent = Agent(state_size=state_size, action_size=action_size, seed=2, network= FNN_Model)"
   ]
  },
  {
   "cell_type": "markdown",
   "metadata": {
    "id": "5Af1O_9s6VqZ"
   },
   "source": [
    "## 6: Lets take a look at the base DQN model\n",
    "- The model  has 3 fully connected layers with 64 nodes each. \n",
    "- It takes an input of 37 (state vector) and output of 4 (action space)\n",
    "- Rulu activation between layers \n",
    "- Adam optermizer."
   ]
  },
  {
   "cell_type": "code",
   "execution_count": 26,
   "metadata": {
    "id": "Rxr2ryfz6VqZ"
   },
   "outputs": [],
   "source": [
    "import os\n",
    "os.environ[\"PATH\"] += os.pathsep + 'C:/Program Files/Graphviz/bin'"
   ]
  },
  {
   "cell_type": "code",
   "execution_count": 27,
   "metadata": {
    "id": "yCfGpFa06VqZ",
    "outputId": "585a2dc5-00ce-48aa-92c2-1c2fb4a55e8a",
    "scrolled": true
   },
   "outputs": [
    {
     "data": {
      "image/svg+xml": [
       "<?xml version=\"1.0\" encoding=\"UTF-8\" standalone=\"no\"?>\r\n",
       "<!DOCTYPE svg PUBLIC \"-//W3C//DTD SVG 1.1//EN\"\r\n",
       " \"http://www.w3.org/Graphics/SVG/1.1/DTD/svg11.dtd\">\r\n",
       "<!-- Generated by graphviz version 2.38.0 (20140413.2041)\r\n",
       " -->\r\n",
       "<!-- Title: %3 Pages: 1 -->\r\n",
       "<svg width=\"408pt\" height=\"545pt\"\r\n",
       " viewBox=\"0.00 0.00 408.00 545.00\" xmlns=\"http://www.w3.org/2000/svg\" xmlns:xlink=\"http://www.w3.org/1999/xlink\">\r\n",
       "<g id=\"graph0\" class=\"graph\" transform=\"scale(1 1) rotate(0) translate(4 541)\">\r\n",
       "<title>%3</title>\r\n",
       "<polygon fill=\"white\" stroke=\"none\" points=\"-4,4 -4,-541 404,-541 404,4 -4,4\"/>\r\n",
       "<!-- 1863650279640 -->\r\n",
       "<g id=\"node1\" class=\"node\"><title>1863650279640</title>\r\n",
       "<polygon fill=\"#caff70\" stroke=\"black\" points=\"232,-31 173,-31 173,-0 232,-0 232,-31\"/>\r\n",
       "<text text-anchor=\"middle\" x=\"202.5\" y=\"-7\" font-family=\"monospace\" font-size=\"10.00\"> (1, 4)</text>\r\n",
       "</g>\r\n",
       "<!-- 1863651607440 -->\r\n",
       "<g id=\"node2\" class=\"node\"><title>1863651607440</title>\r\n",
       "<polygon fill=\"lightgrey\" stroke=\"black\" points=\"250,-86 155,-86 155,-67 250,-67 250,-86\"/>\r\n",
       "<text text-anchor=\"middle\" x=\"202.5\" y=\"-74\" font-family=\"monospace\" font-size=\"10.00\">AddmmBackward</text>\r\n",
       "</g>\r\n",
       "<!-- 1863651607440&#45;&gt;1863650279640 -->\r\n",
       "<g id=\"edge20\" class=\"edge\"><title>1863651607440&#45;&gt;1863650279640</title>\r\n",
       "<path fill=\"none\" stroke=\"black\" d=\"M202.5,-66.7943C202.5,-60.0669 202.5,-50.404 202.5,-41.3425\"/>\r\n",
       "<polygon fill=\"black\" stroke=\"black\" points=\"206,-41.1932 202.5,-31.1933 199,-41.1933 206,-41.1932\"/>\r\n",
       "</g>\r\n",
       "<!-- 1863651610072 -->\r\n",
       "<g id=\"node3\" class=\"node\"><title>1863651610072</title>\r\n",
       "<polygon fill=\"lightgrey\" stroke=\"black\" points=\"137,-141 36,-141 36,-122 137,-122 137,-141\"/>\r\n",
       "<text text-anchor=\"middle\" x=\"86.5\" y=\"-129\" font-family=\"monospace\" font-size=\"10.00\">AccumulateGrad</text>\r\n",
       "</g>\r\n",
       "<!-- 1863651610072&#45;&gt;1863651607440 -->\r\n",
       "<g id=\"edge1\" class=\"edge\"><title>1863651610072&#45;&gt;1863651607440</title>\r\n",
       "<path fill=\"none\" stroke=\"black\" d=\"M105.137,-121.985C123.798,-113.459 152.752,-100.23 174.24,-90.412\"/>\r\n",
       "<polygon fill=\"black\" stroke=\"black\" points=\"175.882,-93.5096 183.523,-86.1703 172.973,-87.1426 175.882,-93.5096\"/>\r\n",
       "</g>\r\n",
       "<!-- 1863650963600 -->\r\n",
       "<g id=\"node4\" class=\"node\"><title>1863650963600</title>\r\n",
       "<polygon fill=\"lightblue\" stroke=\"black\" points=\"119,-207 54,-207 54,-177 119,-177 119,-207\"/>\r\n",
       "<text text-anchor=\"middle\" x=\"86.5\" y=\"-195\" font-family=\"monospace\" font-size=\"10.00\">fc3.bias</text>\r\n",
       "<text text-anchor=\"middle\" x=\"86.5\" y=\"-184\" font-family=\"monospace\" font-size=\"10.00\"> (4)</text>\r\n",
       "</g>\r\n",
       "<!-- 1863650963600&#45;&gt;1863651610072 -->\r\n",
       "<g id=\"edge2\" class=\"edge\"><title>1863650963600&#45;&gt;1863651610072</title>\r\n",
       "<path fill=\"none\" stroke=\"black\" d=\"M86.5,-176.839C86.5,-169.214 86.5,-159.704 86.5,-151.45\"/>\r\n",
       "<polygon fill=\"black\" stroke=\"black\" points=\"90.0001,-151.266 86.5,-141.266 83.0001,-151.266 90.0001,-151.266\"/>\r\n",
       "</g>\r\n",
       "<!-- 1863743861368 -->\r\n",
       "<g id=\"node5\" class=\"node\"><title>1863743861368</title>\r\n",
       "<polygon fill=\"lightgrey\" stroke=\"black\" points=\"250,-141 155,-141 155,-122 250,-122 250,-141\"/>\r\n",
       "<text text-anchor=\"middle\" x=\"202.5\" y=\"-129\" font-family=\"monospace\" font-size=\"10.00\">ReluBackward0</text>\r\n",
       "</g>\r\n",
       "<!-- 1863743861368&#45;&gt;1863651607440 -->\r\n",
       "<g id=\"edge3\" class=\"edge\"><title>1863743861368&#45;&gt;1863651607440</title>\r\n",
       "<path fill=\"none\" stroke=\"black\" d=\"M202.5,-121.748C202.5,-114.802 202.5,-104.845 202.5,-96.1349\"/>\r\n",
       "<polygon fill=\"black\" stroke=\"black\" points=\"206,-96.089 202.5,-86.089 199,-96.0891 206,-96.089\"/>\r\n",
       "</g>\r\n",
       "<!-- 1863743861760 -->\r\n",
       "<g id=\"node6\" class=\"node\"><title>1863743861760</title>\r\n",
       "<polygon fill=\"lightgrey\" stroke=\"black\" points=\"233,-201.5 138,-201.5 138,-182.5 233,-182.5 233,-201.5\"/>\r\n",
       "<text text-anchor=\"middle\" x=\"185.5\" y=\"-189.5\" font-family=\"monospace\" font-size=\"10.00\">AddmmBackward</text>\r\n",
       "</g>\r\n",
       "<!-- 1863743861760&#45;&gt;1863743861368 -->\r\n",
       "<g id=\"edge4\" class=\"edge\"><title>1863743861760&#45;&gt;1863743861368</title>\r\n",
       "<path fill=\"none\" stroke=\"black\" d=\"M188.008,-182.368C190.394,-174.159 194.06,-161.542 197.108,-151.053\"/>\r\n",
       "<polygon fill=\"black\" stroke=\"black\" points=\"200.552,-151.747 199.981,-141.167 193.83,-149.793 200.552,-151.747\"/>\r\n",
       "</g>\r\n",
       "<!-- 1863743861872 -->\r\n",
       "<g id=\"node7\" class=\"node\"><title>1863743861872</title>\r\n",
       "<polygon fill=\"lightgrey\" stroke=\"black\" points=\"101,-267.5 0,-267.5 0,-248.5 101,-248.5 101,-267.5\"/>\r\n",
       "<text text-anchor=\"middle\" x=\"50.5\" y=\"-255.5\" font-family=\"monospace\" font-size=\"10.00\">AccumulateGrad</text>\r\n",
       "</g>\r\n",
       "<!-- 1863743861872&#45;&gt;1863743861760 -->\r\n",
       "<g id=\"edge5\" class=\"edge\"><title>1863743861872&#45;&gt;1863743861760</title>\r\n",
       "<path fill=\"none\" stroke=\"black\" d=\"M68.7067,-248.369C91.6542,-237.49 131.314,-218.688 157.972,-206.05\"/>\r\n",
       "<polygon fill=\"black\" stroke=\"black\" points=\"159.614,-209.145 167.151,-201.699 156.615,-202.82 159.614,-209.145\"/>\r\n",
       "</g>\r\n",
       "<!-- 1863650964248 -->\r\n",
       "<g id=\"node8\" class=\"node\"><title>1863650964248</title>\r\n",
       "<polygon fill=\"lightblue\" stroke=\"black\" points=\"83,-339 18,-339 18,-309 83,-309 83,-339\"/>\r\n",
       "<text text-anchor=\"middle\" x=\"50.5\" y=\"-327\" font-family=\"monospace\" font-size=\"10.00\">fc2.bias</text>\r\n",
       "<text text-anchor=\"middle\" x=\"50.5\" y=\"-316\" font-family=\"monospace\" font-size=\"10.00\"> (64)</text>\r\n",
       "</g>\r\n",
       "<!-- 1863650964248&#45;&gt;1863743861872 -->\r\n",
       "<g id=\"edge6\" class=\"edge\"><title>1863650964248&#45;&gt;1863743861872</title>\r\n",
       "<path fill=\"none\" stroke=\"black\" d=\"M50.5,-308.796C50.5,-299.699 50.5,-287.788 50.5,-277.897\"/>\r\n",
       "<polygon fill=\"black\" stroke=\"black\" points=\"54.0001,-277.844 50.5,-267.844 47.0001,-277.844 54.0001,-277.844\"/>\r\n",
       "</g>\r\n",
       "<!-- 1863743861984 -->\r\n",
       "<g id=\"node9\" class=\"node\"><title>1863743861984</title>\r\n",
       "<polygon fill=\"lightgrey\" stroke=\"black\" points=\"214,-267.5 119,-267.5 119,-248.5 214,-248.5 214,-267.5\"/>\r\n",
       "<text text-anchor=\"middle\" x=\"166.5\" y=\"-255.5\" font-family=\"monospace\" font-size=\"10.00\">ReluBackward0</text>\r\n",
       "</g>\r\n",
       "<!-- 1863743861984&#45;&gt;1863743861760 -->\r\n",
       "<g id=\"edge7\" class=\"edge\"><title>1863743861984&#45;&gt;1863743861760</title>\r\n",
       "<path fill=\"none\" stroke=\"black\" d=\"M169.062,-248.369C171.851,-238.974 176.395,-223.671 179.999,-211.531\"/>\r\n",
       "<polygon fill=\"black\" stroke=\"black\" points=\"183.365,-212.488 182.856,-201.905 176.655,-210.496 183.365,-212.488\"/>\r\n",
       "</g>\r\n",
       "<!-- 1863743862152 -->\r\n",
       "<g id=\"node10\" class=\"node\"><title>1863743862152</title>\r\n",
       "<polygon fill=\"lightgrey\" stroke=\"black\" points=\"206,-333.5 111,-333.5 111,-314.5 206,-314.5 206,-333.5\"/>\r\n",
       "<text text-anchor=\"middle\" x=\"158.5\" y=\"-321.5\" font-family=\"monospace\" font-size=\"10.00\">AddmmBackward</text>\r\n",
       "</g>\r\n",
       "<!-- 1863743862152&#45;&gt;1863743861984 -->\r\n",
       "<g id=\"edge8\" class=\"edge\"><title>1863743862152&#45;&gt;1863743861984</title>\r\n",
       "<path fill=\"none\" stroke=\"black\" d=\"M159.579,-314.369C160.741,-305.069 162.628,-289.979 164.138,-277.9\"/>\r\n",
       "<polygon fill=\"black\" stroke=\"black\" points=\"167.619,-278.262 165.387,-267.905 160.673,-277.394 167.619,-278.262\"/>\r\n",
       "</g>\r\n",
       "<!-- 1863743862264 -->\r\n",
       "<g id=\"node11\" class=\"node\"><title>1863743862264</title>\r\n",
       "<polygon fill=\"lightgrey\" stroke=\"black\" points=\"117,-399.5 16,-399.5 16,-380.5 117,-380.5 117,-399.5\"/>\r\n",
       "<text text-anchor=\"middle\" x=\"66.5\" y=\"-387.5\" font-family=\"monospace\" font-size=\"10.00\">AccumulateGrad</text>\r\n",
       "</g>\r\n",
       "<!-- 1863743862264&#45;&gt;1863743862152 -->\r\n",
       "<g id=\"edge9\" class=\"edge\"><title>1863743862264&#45;&gt;1863743862152</title>\r\n",
       "<path fill=\"none\" stroke=\"black\" d=\"M78.9075,-380.369C93.86,-369.967 119.225,-352.322 137.301,-339.747\"/>\r\n",
       "<polygon fill=\"black\" stroke=\"black\" points=\"139.785,-342.283 145.995,-333.699 135.787,-336.536 139.785,-342.283\"/>\r\n",
       "</g>\r\n",
       "<!-- 1863650964752 -->\r\n",
       "<g id=\"node12\" class=\"node\"><title>1863650964752</title>\r\n",
       "<polygon fill=\"lightblue\" stroke=\"black\" points=\"99,-471 34,-471 34,-441 99,-441 99,-471\"/>\r\n",
       "<text text-anchor=\"middle\" x=\"66.5\" y=\"-459\" font-family=\"monospace\" font-size=\"10.00\">fc1.bias</text>\r\n",
       "<text text-anchor=\"middle\" x=\"66.5\" y=\"-448\" font-family=\"monospace\" font-size=\"10.00\"> (64)</text>\r\n",
       "</g>\r\n",
       "<!-- 1863650964752&#45;&gt;1863743862264 -->\r\n",
       "<g id=\"edge10\" class=\"edge\"><title>1863650964752&#45;&gt;1863743862264</title>\r\n",
       "<path fill=\"none\" stroke=\"black\" d=\"M66.5,-440.796C66.5,-431.699 66.5,-419.788 66.5,-409.897\"/>\r\n",
       "<polygon fill=\"black\" stroke=\"black\" points=\"70.0001,-409.844 66.5,-399.844 63.0001,-409.844 70.0001,-409.844\"/>\r\n",
       "</g>\r\n",
       "<!-- 1863743862320 -->\r\n",
       "<g id=\"node13\" class=\"node\"><title>1863743862320</title>\r\n",
       "<polygon fill=\"lightgrey\" stroke=\"black\" points=\"206,-399.5 135,-399.5 135,-380.5 206,-380.5 206,-399.5\"/>\r\n",
       "<text text-anchor=\"middle\" x=\"170.5\" y=\"-387.5\" font-family=\"monospace\" font-size=\"10.00\">TBackward</text>\r\n",
       "</g>\r\n",
       "<!-- 1863743862320&#45;&gt;1863743862152 -->\r\n",
       "<g id=\"edge11\" class=\"edge\"><title>1863743862320&#45;&gt;1863743862152</title>\r\n",
       "<path fill=\"none\" stroke=\"black\" d=\"M168.882,-380.369C167.138,-371.069 164.309,-355.979 162.044,-343.9\"/>\r\n",
       "<polygon fill=\"black\" stroke=\"black\" points=\"165.453,-343.089 160.17,-333.905 158.573,-344.379 165.453,-343.089\"/>\r\n",
       "</g>\r\n",
       "<!-- 1863743862432 -->\r\n",
       "<g id=\"node14\" class=\"node\"><title>1863743862432</title>\r\n",
       "<polygon fill=\"lightgrey\" stroke=\"black\" points=\"221,-465.5 120,-465.5 120,-446.5 221,-446.5 221,-465.5\"/>\r\n",
       "<text text-anchor=\"middle\" x=\"170.5\" y=\"-453.5\" font-family=\"monospace\" font-size=\"10.00\">AccumulateGrad</text>\r\n",
       "</g>\r\n",
       "<!-- 1863743862432&#45;&gt;1863743862320 -->\r\n",
       "<g id=\"edge12\" class=\"edge\"><title>1863743862432&#45;&gt;1863743862320</title>\r\n",
       "<path fill=\"none\" stroke=\"black\" d=\"M170.5,-446.369C170.5,-437.164 170.5,-422.287 170.5,-410.271\"/>\r\n",
       "<polygon fill=\"black\" stroke=\"black\" points=\"174,-409.905 170.5,-399.905 167,-409.905 174,-409.905\"/>\r\n",
       "</g>\r\n",
       "<!-- 1863647910072 -->\r\n",
       "<g id=\"node15\" class=\"node\"><title>1863647910072</title>\r\n",
       "<polygon fill=\"lightblue\" stroke=\"black\" points=\"209,-537 132,-537 132,-507 209,-507 209,-537\"/>\r\n",
       "<text text-anchor=\"middle\" x=\"170.5\" y=\"-525\" font-family=\"monospace\" font-size=\"10.00\">fc1.weight</text>\r\n",
       "<text text-anchor=\"middle\" x=\"170.5\" y=\"-514\" font-family=\"monospace\" font-size=\"10.00\"> (64, 37)</text>\r\n",
       "</g>\r\n",
       "<!-- 1863647910072&#45;&gt;1863743862432 -->\r\n",
       "<g id=\"edge13\" class=\"edge\"><title>1863647910072&#45;&gt;1863743862432</title>\r\n",
       "<path fill=\"none\" stroke=\"black\" d=\"M170.5,-506.796C170.5,-497.699 170.5,-485.788 170.5,-475.897\"/>\r\n",
       "<polygon fill=\"black\" stroke=\"black\" points=\"174,-475.844 170.5,-465.844 167,-475.844 174,-475.844\"/>\r\n",
       "</g>\r\n",
       "<!-- 1863743862040 -->\r\n",
       "<g id=\"node16\" class=\"node\"><title>1863743862040</title>\r\n",
       "<polygon fill=\"lightgrey\" stroke=\"black\" points=\"303,-267.5 232,-267.5 232,-248.5 303,-248.5 303,-267.5\"/>\r\n",
       "<text text-anchor=\"middle\" x=\"267.5\" y=\"-255.5\" font-family=\"monospace\" font-size=\"10.00\">TBackward</text>\r\n",
       "</g>\r\n",
       "<!-- 1863743862040&#45;&gt;1863743861760 -->\r\n",
       "<g id=\"edge14\" class=\"edge\"><title>1863743862040&#45;&gt;1863743861760</title>\r\n",
       "<path fill=\"none\" stroke=\"black\" d=\"M256.441,-248.369C243.236,-238.062 220.92,-220.645 204.84,-208.095\"/>\r\n",
       "<polygon fill=\"black\" stroke=\"black\" points=\"206.682,-205.093 196.646,-201.699 202.375,-210.611 206.682,-205.093\"/>\r\n",
       "</g>\r\n",
       "<!-- 1863743862208 -->\r\n",
       "<g id=\"node17\" class=\"node\"><title>1863743862208</title>\r\n",
       "<polygon fill=\"lightgrey\" stroke=\"black\" points=\"325,-333.5 224,-333.5 224,-314.5 325,-314.5 325,-333.5\"/>\r\n",
       "<text text-anchor=\"middle\" x=\"274.5\" y=\"-321.5\" font-family=\"monospace\" font-size=\"10.00\">AccumulateGrad</text>\r\n",
       "</g>\r\n",
       "<!-- 1863743862208&#45;&gt;1863743862040 -->\r\n",
       "<g id=\"edge15\" class=\"edge\"><title>1863743862208&#45;&gt;1863743862040</title>\r\n",
       "<path fill=\"none\" stroke=\"black\" d=\"M273.556,-314.369C272.539,-305.069 270.888,-289.979 269.567,-277.9\"/>\r\n",
       "<polygon fill=\"black\" stroke=\"black\" points=\"273.041,-277.465 268.474,-267.905 266.082,-278.227 273.041,-277.465\"/>\r\n",
       "</g>\r\n",
       "<!-- 1863650964104 -->\r\n",
       "<g id=\"node18\" class=\"node\"><title>1863650964104</title>\r\n",
       "<polygon fill=\"lightblue\" stroke=\"black\" points=\"313,-405 236,-405 236,-375 313,-375 313,-405\"/>\r\n",
       "<text text-anchor=\"middle\" x=\"274.5\" y=\"-393\" font-family=\"monospace\" font-size=\"10.00\">fc2.weight</text>\r\n",
       "<text text-anchor=\"middle\" x=\"274.5\" y=\"-382\" font-family=\"monospace\" font-size=\"10.00\"> (64, 64)</text>\r\n",
       "</g>\r\n",
       "<!-- 1863650964104&#45;&gt;1863743862208 -->\r\n",
       "<g id=\"edge16\" class=\"edge\"><title>1863650964104&#45;&gt;1863743862208</title>\r\n",
       "<path fill=\"none\" stroke=\"black\" d=\"M274.5,-374.796C274.5,-365.699 274.5,-353.788 274.5,-343.897\"/>\r\n",
       "<polygon fill=\"black\" stroke=\"black\" points=\"278,-343.844 274.5,-333.844 271,-343.844 278,-343.844\"/>\r\n",
       "</g>\r\n",
       "<!-- 1863743861256 -->\r\n",
       "<g id=\"node19\" class=\"node\"><title>1863743861256</title>\r\n",
       "<polygon fill=\"lightgrey\" stroke=\"black\" points=\"376,-141 305,-141 305,-122 376,-122 376,-141\"/>\r\n",
       "<text text-anchor=\"middle\" x=\"340.5\" y=\"-129\" font-family=\"monospace\" font-size=\"10.00\">TBackward</text>\r\n",
       "</g>\r\n",
       "<!-- 1863743861256&#45;&gt;1863651607440 -->\r\n",
       "<g id=\"edge17\" class=\"edge\"><title>1863743861256&#45;&gt;1863651607440</title>\r\n",
       "<path fill=\"none\" stroke=\"black\" d=\"M318.328,-121.985C295.728,-113.305 260.438,-99.7515 234.747,-89.8847\"/>\r\n",
       "<polygon fill=\"black\" stroke=\"black\" points=\"235.666,-86.4883 225.076,-86.1703 233.156,-93.0229 235.666,-86.4883\"/>\r\n",
       "</g>\r\n",
       "<!-- 1863743861928 -->\r\n",
       "<g id=\"node20\" class=\"node\"><title>1863743861928</title>\r\n",
       "<polygon fill=\"lightgrey\" stroke=\"black\" points=\"400,-201.5 299,-201.5 299,-182.5 400,-182.5 400,-201.5\"/>\r\n",
       "<text text-anchor=\"middle\" x=\"349.5\" y=\"-189.5\" font-family=\"monospace\" font-size=\"10.00\">AccumulateGrad</text>\r\n",
       "</g>\r\n",
       "<!-- 1863743861928&#45;&gt;1863743861256 -->\r\n",
       "<g id=\"edge18\" class=\"edge\"><title>1863743861928&#45;&gt;1863743861256</title>\r\n",
       "<path fill=\"none\" stroke=\"black\" d=\"M348.172,-182.368C346.909,-174.159 344.968,-161.542 343.354,-151.053\"/>\r\n",
       "<polygon fill=\"black\" stroke=\"black\" points=\"346.813,-150.519 341.833,-141.167 339.895,-151.583 346.813,-150.519\"/>\r\n",
       "</g>\r\n",
       "<!-- 1863650964392 -->\r\n",
       "<g id=\"node21\" class=\"node\"><title>1863650964392</title>\r\n",
       "<polygon fill=\"lightblue\" stroke=\"black\" points=\"398,-273 321,-273 321,-243 398,-243 398,-273\"/>\r\n",
       "<text text-anchor=\"middle\" x=\"359.5\" y=\"-261\" font-family=\"monospace\" font-size=\"10.00\">fc3.weight</text>\r\n",
       "<text text-anchor=\"middle\" x=\"359.5\" y=\"-250\" font-family=\"monospace\" font-size=\"10.00\"> (4, 64)</text>\r\n",
       "</g>\r\n",
       "<!-- 1863650964392&#45;&gt;1863743861928 -->\r\n",
       "<g id=\"edge19\" class=\"edge\"><title>1863650964392&#45;&gt;1863743861928</title>\r\n",
       "<path fill=\"none\" stroke=\"black\" d=\"M357.281,-242.796C355.859,-233.699 353.998,-221.788 352.453,-211.897\"/>\r\n",
       "<polygon fill=\"black\" stroke=\"black\" points=\"355.884,-211.184 350.882,-201.844 348.968,-212.265 355.884,-211.184\"/>\r\n",
       "</g>\r\n",
       "</g>\r\n",
       "</svg>\r\n"
      ],
      "text/plain": [
       "<graphviz.dot.Digraph at 0x1b1ea229240>"
      ]
     },
     "execution_count": 27,
     "metadata": {},
     "output_type": "execute_result"
    }
   ],
   "source": [
    "model = DQN(37, 4, 42)\n",
    "x = Variable(torch.randn(1,37))\n",
    "y = model(x)\n",
    "             \n",
    "make_dot(y, params=dict(list(model.named_parameters())))"
   ]
  },
  {
   "cell_type": "markdown",
   "metadata": {
    "id": "PXOwK4YL6Vqa"
   },
   "source": [
    "## 7: Lets take a look at the Dueling DDQN model\n",
    "- The model  has 3 fully connected layers with 64 nodes each. \n",
    "- It takes an input of 37 (state vector) and output of 4 (action space)\n",
    "- Third layer is split into a Advantage and Value fully connected layer\n",
    "- The advantage layer outputs 4 (number of actions)\n",
    "- the Value layer outputs 1\n",
    "- The final output is caluculated by Q(s,a)=V(s)+(A(s,a)-avg_a(A(s,a)))\n",
    "- Rulu activation is used between layers \n",
    "- Adam optermizer."
   ]
  },
  {
   "cell_type": "code",
   "execution_count": 28,
   "metadata": {
    "id": "fLf55NQs6Vqa",
    "outputId": "52ada702-d156-4008-d0d2-53984e7ad2ad"
   },
   "outputs": [
    {
     "data": {
      "image/svg+xml": [
       "<?xml version=\"1.0\" encoding=\"UTF-8\" standalone=\"no\"?>\r\n",
       "<!DOCTYPE svg PUBLIC \"-//W3C//DTD SVG 1.1//EN\"\r\n",
       " \"http://www.w3.org/Graphics/SVG/1.1/DTD/svg11.dtd\">\r\n",
       "<!-- Generated by graphviz version 2.38.0 (20140413.2041)\r\n",
       " -->\r\n",
       "<!-- Title: %3 Pages: 1 -->\r\n",
       "<svg width=\"346pt\" height=\"820pt\"\r\n",
       " viewBox=\"0.00 0.00 346.00 820.00\" xmlns=\"http://www.w3.org/2000/svg\" xmlns:xlink=\"http://www.w3.org/1999/xlink\">\r\n",
       "<g id=\"graph0\" class=\"graph\" transform=\"scale(1 1) rotate(0) translate(4 816)\">\r\n",
       "<title>%3</title>\r\n",
       "<polygon fill=\"white\" stroke=\"none\" points=\"-4,4 -4,-816 342,-816 342,4 -4,4\"/>\r\n",
       "<!-- 1863650966912 -->\r\n",
       "<g id=\"node1\" class=\"node\"><title>1863650966912</title>\r\n",
       "<polygon fill=\"#caff70\" stroke=\"black\" points=\"206,-31 147,-31 147,-0 206,-0 206,-31\"/>\r\n",
       "<text text-anchor=\"middle\" x=\"176.5\" y=\"-7\" font-family=\"monospace\" font-size=\"10.00\"> (1, 4)</text>\r\n",
       "</g>\r\n",
       "<!-- 1863743861144 -->\r\n",
       "<g id=\"node2\" class=\"node\"><title>1863743861144</title>\r\n",
       "<polygon fill=\"lightgrey\" stroke=\"black\" points=\"221,-86 132,-86 132,-67 221,-67 221,-86\"/>\r\n",
       "<text text-anchor=\"middle\" x=\"176.5\" y=\"-74\" font-family=\"monospace\" font-size=\"10.00\">AddBackward0</text>\r\n",
       "</g>\r\n",
       "<!-- 1863743861144&#45;&gt;1863650966912 -->\r\n",
       "<g id=\"edge28\" class=\"edge\"><title>1863743861144&#45;&gt;1863650966912</title>\r\n",
       "<path fill=\"none\" stroke=\"black\" d=\"M176.5,-66.7943C176.5,-60.0669 176.5,-50.404 176.5,-41.3425\"/>\r\n",
       "<polygon fill=\"black\" stroke=\"black\" points=\"180,-41.1932 176.5,-31.1933 173,-41.1933 180,-41.1932\"/>\r\n",
       "</g>\r\n",
       "<!-- 1863743862376 -->\r\n",
       "<g id=\"node3\" class=\"node\"><title>1863743862376</title>\r\n",
       "<polygon fill=\"lightgrey\" stroke=\"black\" points=\"186,-196 85,-196 85,-177 186,-177 186,-196\"/>\r\n",
       "<text text-anchor=\"middle\" x=\"135.5\" y=\"-184\" font-family=\"monospace\" font-size=\"10.00\">GatherBackward</text>\r\n",
       "</g>\r\n",
       "<!-- 1863743862376&#45;&gt;1863743861144 -->\r\n",
       "<g id=\"edge1\" class=\"edge\"><title>1863743862376&#45;&gt;1863743861144</title>\r\n",
       "<path fill=\"none\" stroke=\"black\" d=\"M138.855,-176.662C145.556,-159.012 160.712,-119.087 169.615,-95.6352\"/>\r\n",
       "<polygon fill=\"black\" stroke=\"black\" points=\"172.936,-96.7496 173.213,-86.1584 166.392,-94.2651 172.936,-96.7496\"/>\r\n",
       "</g>\r\n",
       "<!-- 1863743861200 -->\r\n",
       "<g id=\"node4\" class=\"node\"><title>1863743861200</title>\r\n",
       "<polygon fill=\"lightgrey\" stroke=\"black\" points=\"222,-306 127,-306 127,-287 222,-287 222,-306\"/>\r\n",
       "<text text-anchor=\"middle\" x=\"174.5\" y=\"-294\" font-family=\"monospace\" font-size=\"10.00\">AddmmBackward</text>\r\n",
       "</g>\r\n",
       "<!-- 1863743861200&#45;&gt;1863743862376 -->\r\n",
       "<g id=\"edge2\" class=\"edge\"><title>1863743861200&#45;&gt;1863743862376</title>\r\n",
       "<path fill=\"none\" stroke=\"black\" d=\"M170.168,-286.778C165.86,-277.908 159.23,-263.7 154.5,-251 148.97,-236.154 143.893,-218.911 140.381,-206.143\"/>\r\n",
       "<polygon fill=\"black\" stroke=\"black\" points=\"143.698,-204.998 137.726,-196.247 136.937,-206.812 143.698,-204.998\"/>\r\n",
       "</g>\r\n",
       "<!-- 1863743862768 -->\r\n",
       "<g id=\"node26\" class=\"node\"><title>1863743862768</title>\r\n",
       "<polygon fill=\"lightgrey\" stroke=\"black\" points=\"265,-251 164,-251 164,-232 265,-232 265,-251\"/>\r\n",
       "<text text-anchor=\"middle\" x=\"214.5\" y=\"-239\" font-family=\"monospace\" font-size=\"10.00\">GatherBackward</text>\r\n",
       "</g>\r\n",
       "<!-- 1863743861200&#45;&gt;1863743862768 -->\r\n",
       "<g id=\"edge25\" class=\"edge\"><title>1863743861200&#45;&gt;1863743862768</title>\r\n",
       "<path fill=\"none\" stroke=\"black\" d=\"M181.105,-286.748C186.755,-279.262 195.045,-268.278 201.951,-259.127\"/>\r\n",
       "<polygon fill=\"black\" stroke=\"black\" points=\"204.787,-261.179 208.018,-251.089 199.2,-256.962 204.787,-261.179\"/>\r\n",
       "</g>\r\n",
       "<!-- 1863743862880 -->\r\n",
       "<g id=\"node5\" class=\"node\"><title>1863743862880</title>\r\n",
       "<polygon fill=\"lightgrey\" stroke=\"black\" points=\"112,-361 11,-361 11,-342 112,-342 112,-361\"/>\r\n",
       "<text text-anchor=\"middle\" x=\"61.5\" y=\"-349\" font-family=\"monospace\" font-size=\"10.00\">AccumulateGrad</text>\r\n",
       "</g>\r\n",
       "<!-- 1863743862880&#45;&gt;1863743861200 -->\r\n",
       "<g id=\"edge3\" class=\"edge\"><title>1863743862880&#45;&gt;1863743861200</title>\r\n",
       "<path fill=\"none\" stroke=\"black\" d=\"M79.6554,-341.985C97.7517,-333.497 125.785,-320.349 146.687,-310.545\"/>\r\n",
       "<polygon fill=\"black\" stroke=\"black\" points=\"148.447,-313.586 156.014,-306.17 145.474,-307.248 148.447,-313.586\"/>\r\n",
       "</g>\r\n",
       "<!-- 1863650963744 -->\r\n",
       "<g id=\"node6\" class=\"node\"><title>1863650963744</title>\r\n",
       "<polygon fill=\"lightblue\" stroke=\"black\" points=\"94,-427 29,-427 29,-397 94,-397 94,-427\"/>\r\n",
       "<text text-anchor=\"middle\" x=\"61.5\" y=\"-415\" font-family=\"monospace\" font-size=\"10.00\">fc3.bias</text>\r\n",
       "<text text-anchor=\"middle\" x=\"61.5\" y=\"-404\" font-family=\"monospace\" font-size=\"10.00\"> (5)</text>\r\n",
       "</g>\r\n",
       "<!-- 1863650963744&#45;&gt;1863743862880 -->\r\n",
       "<g id=\"edge4\" class=\"edge\"><title>1863650963744&#45;&gt;1863743862880</title>\r\n",
       "<path fill=\"none\" stroke=\"black\" d=\"M61.5,-396.839C61.5,-389.214 61.5,-379.704 61.5,-371.45\"/>\r\n",
       "<polygon fill=\"black\" stroke=\"black\" points=\"65.0001,-371.266 61.5,-361.266 58.0001,-371.266 65.0001,-371.266\"/>\r\n",
       "</g>\r\n",
       "<!-- 1863743862936 -->\r\n",
       "<g id=\"node7\" class=\"node\"><title>1863743862936</title>\r\n",
       "<polygon fill=\"lightgrey\" stroke=\"black\" points=\"219,-361 130,-361 130,-342 219,-342 219,-361\"/>\r\n",
       "<text text-anchor=\"middle\" x=\"174.5\" y=\"-349\" font-family=\"monospace\" font-size=\"10.00\">ViewBackward</text>\r\n",
       "</g>\r\n",
       "<!-- 1863743862936&#45;&gt;1863743861200 -->\r\n",
       "<g id=\"edge5\" class=\"edge\"><title>1863743862936&#45;&gt;1863743861200</title>\r\n",
       "<path fill=\"none\" stroke=\"black\" d=\"M174.5,-341.748C174.5,-334.802 174.5,-324.845 174.5,-316.135\"/>\r\n",
       "<polygon fill=\"black\" stroke=\"black\" points=\"178,-316.089 174.5,-306.089 171,-316.089 178,-316.089\"/>\r\n",
       "</g>\r\n",
       "<!-- 1863743863104 -->\r\n",
       "<g id=\"node8\" class=\"node\"><title>1863743863104</title>\r\n",
       "<polygon fill=\"lightgrey\" stroke=\"black\" points=\"214,-421.5 119,-421.5 119,-402.5 214,-402.5 214,-421.5\"/>\r\n",
       "<text text-anchor=\"middle\" x=\"166.5\" y=\"-409.5\" font-family=\"monospace\" font-size=\"10.00\">ReluBackward0</text>\r\n",
       "</g>\r\n",
       "<!-- 1863743863104&#45;&gt;1863743862936 -->\r\n",
       "<g id=\"edge6\" class=\"edge\"><title>1863743863104&#45;&gt;1863743862936</title>\r\n",
       "<path fill=\"none\" stroke=\"black\" d=\"M167.68,-402.368C168.791,-394.246 170.492,-381.807 171.917,-371.385\"/>\r\n",
       "<polygon fill=\"black\" stroke=\"black\" points=\"175.427,-371.549 173.315,-361.167 168.492,-370.601 175.427,-371.549\"/>\r\n",
       "</g>\r\n",
       "<!-- 1863743863216 -->\r\n",
       "<g id=\"node9\" class=\"node\"><title>1863743863216</title>\r\n",
       "<polygon fill=\"lightgrey\" stroke=\"black\" points=\"214,-487.5 119,-487.5 119,-468.5 214,-468.5 214,-487.5\"/>\r\n",
       "<text text-anchor=\"middle\" x=\"166.5\" y=\"-475.5\" font-family=\"monospace\" font-size=\"10.00\">AddmmBackward</text>\r\n",
       "</g>\r\n",
       "<!-- 1863743863216&#45;&gt;1863743863104 -->\r\n",
       "<g id=\"edge7\" class=\"edge\"><title>1863743863216&#45;&gt;1863743863104</title>\r\n",
       "<path fill=\"none\" stroke=\"black\" d=\"M166.5,-468.369C166.5,-459.164 166.5,-444.287 166.5,-432.271\"/>\r\n",
       "<polygon fill=\"black\" stroke=\"black\" points=\"170,-431.905 166.5,-421.905 163,-431.905 170,-431.905\"/>\r\n",
       "</g>\r\n",
       "<!-- 1863743863328 -->\r\n",
       "<g id=\"node10\" class=\"node\"><title>1863743863328</title>\r\n",
       "<polygon fill=\"lightgrey\" stroke=\"black\" points=\"101,-548 0,-548 0,-529 101,-529 101,-548\"/>\r\n",
       "<text text-anchor=\"middle\" x=\"50.5\" y=\"-536\" font-family=\"monospace\" font-size=\"10.00\">AccumulateGrad</text>\r\n",
       "</g>\r\n",
       "<!-- 1863743863328&#45;&gt;1863743863216 -->\r\n",
       "<g id=\"edge8\" class=\"edge\"><title>1863743863328&#45;&gt;1863743863216</title>\r\n",
       "<path fill=\"none\" stroke=\"black\" d=\"M67.6162,-528.868C86.7208,-519.233 117.866,-503.526 140.098,-492.315\"/>\r\n",
       "<polygon fill=\"black\" stroke=\"black\" points=\"141.961,-495.295 149.314,-487.667 138.809,-489.045 141.961,-495.295\"/>\r\n",
       "</g>\r\n",
       "<!-- 1863733807864 -->\r\n",
       "<g id=\"node11\" class=\"node\"><title>1863733807864</title>\r\n",
       "<polygon fill=\"lightblue\" stroke=\"black\" points=\"83,-614 18,-614 18,-584 83,-584 83,-614\"/>\r\n",
       "<text text-anchor=\"middle\" x=\"50.5\" y=\"-602\" font-family=\"monospace\" font-size=\"10.00\">fc2.bias</text>\r\n",
       "<text text-anchor=\"middle\" x=\"50.5\" y=\"-591\" font-family=\"monospace\" font-size=\"10.00\"> (64)</text>\r\n",
       "</g>\r\n",
       "<!-- 1863733807864&#45;&gt;1863743863328 -->\r\n",
       "<g id=\"edge9\" class=\"edge\"><title>1863733807864&#45;&gt;1863743863328</title>\r\n",
       "<path fill=\"none\" stroke=\"black\" d=\"M50.5,-583.839C50.5,-576.214 50.5,-566.704 50.5,-558.45\"/>\r\n",
       "<polygon fill=\"black\" stroke=\"black\" points=\"54.0001,-558.266 50.5,-548.266 47.0001,-558.266 54.0001,-558.266\"/>\r\n",
       "</g>\r\n",
       "<!-- 1863743863384 -->\r\n",
       "<g id=\"node12\" class=\"node\"><title>1863743863384</title>\r\n",
       "<polygon fill=\"lightgrey\" stroke=\"black\" points=\"214,-548 119,-548 119,-529 214,-529 214,-548\"/>\r\n",
       "<text text-anchor=\"middle\" x=\"166.5\" y=\"-536\" font-family=\"monospace\" font-size=\"10.00\">ReluBackward0</text>\r\n",
       "</g>\r\n",
       "<!-- 1863743863384&#45;&gt;1863743863216 -->\r\n",
       "<g id=\"edge10\" class=\"edge\"><title>1863743863384&#45;&gt;1863743863216</title>\r\n",
       "<path fill=\"none\" stroke=\"black\" d=\"M166.5,-528.868C166.5,-520.746 166.5,-508.307 166.5,-497.885\"/>\r\n",
       "<polygon fill=\"black\" stroke=\"black\" points=\"170,-497.667 166.5,-487.667 163,-497.667 170,-497.667\"/>\r\n",
       "</g>\r\n",
       "<!-- 1863743863552 -->\r\n",
       "<g id=\"node13\" class=\"node\"><title>1863743863552</title>\r\n",
       "<polygon fill=\"lightgrey\" stroke=\"black\" points=\"210,-608.5 115,-608.5 115,-589.5 210,-589.5 210,-608.5\"/>\r\n",
       "<text text-anchor=\"middle\" x=\"162.5\" y=\"-596.5\" font-family=\"monospace\" font-size=\"10.00\">AddmmBackward</text>\r\n",
       "</g>\r\n",
       "<!-- 1863743863552&#45;&gt;1863743863384 -->\r\n",
       "<g id=\"edge11\" class=\"edge\"><title>1863743863552&#45;&gt;1863743863384</title>\r\n",
       "<path fill=\"none\" stroke=\"black\" d=\"M163.09,-589.368C163.646,-581.246 164.496,-568.807 165.209,-558.385\"/>\r\n",
       "<polygon fill=\"black\" stroke=\"black\" points=\"168.717,-558.383 165.907,-548.167 161.733,-557.905 168.717,-558.383\"/>\r\n",
       "</g>\r\n",
       "<!-- 1863743863664 -->\r\n",
       "<g id=\"node14\" class=\"node\"><title>1863743863664</title>\r\n",
       "<polygon fill=\"lightgrey\" stroke=\"black\" points=\"121,-674.5 20,-674.5 20,-655.5 121,-655.5 121,-674.5\"/>\r\n",
       "<text text-anchor=\"middle\" x=\"70.5\" y=\"-662.5\" font-family=\"monospace\" font-size=\"10.00\">AccumulateGrad</text>\r\n",
       "</g>\r\n",
       "<!-- 1863743863664&#45;&gt;1863743863552 -->\r\n",
       "<g id=\"edge12\" class=\"edge\"><title>1863743863664&#45;&gt;1863743863552</title>\r\n",
       "<path fill=\"none\" stroke=\"black\" d=\"M82.9075,-655.369C97.86,-644.967 123.225,-627.322 141.301,-614.747\"/>\r\n",
       "<polygon fill=\"black\" stroke=\"black\" points=\"143.785,-617.283 149.995,-608.699 139.787,-611.536 143.785,-617.283\"/>\r\n",
       "</g>\r\n",
       "<!-- 1863733805272 -->\r\n",
       "<g id=\"node15\" class=\"node\"><title>1863733805272</title>\r\n",
       "<polygon fill=\"lightblue\" stroke=\"black\" points=\"103,-746 38,-746 38,-716 103,-716 103,-746\"/>\r\n",
       "<text text-anchor=\"middle\" x=\"70.5\" y=\"-734\" font-family=\"monospace\" font-size=\"10.00\">fc1.bias</text>\r\n",
       "<text text-anchor=\"middle\" x=\"70.5\" y=\"-723\" font-family=\"monospace\" font-size=\"10.00\"> (64)</text>\r\n",
       "</g>\r\n",
       "<!-- 1863733805272&#45;&gt;1863743863664 -->\r\n",
       "<g id=\"edge13\" class=\"edge\"><title>1863733805272&#45;&gt;1863743863664</title>\r\n",
       "<path fill=\"none\" stroke=\"black\" d=\"M70.5,-715.796C70.5,-706.699 70.5,-694.788 70.5,-684.897\"/>\r\n",
       "<polygon fill=\"black\" stroke=\"black\" points=\"74.0001,-684.844 70.5,-674.844 67.0001,-684.844 74.0001,-684.844\"/>\r\n",
       "</g>\r\n",
       "<!-- 1863743863720 -->\r\n",
       "<g id=\"node16\" class=\"node\"><title>1863743863720</title>\r\n",
       "<polygon fill=\"lightgrey\" stroke=\"black\" points=\"210,-674.5 139,-674.5 139,-655.5 210,-655.5 210,-674.5\"/>\r\n",
       "<text text-anchor=\"middle\" x=\"174.5\" y=\"-662.5\" font-family=\"monospace\" font-size=\"10.00\">TBackward</text>\r\n",
       "</g>\r\n",
       "<!-- 1863743863720&#45;&gt;1863743863552 -->\r\n",
       "<g id=\"edge14\" class=\"edge\"><title>1863743863720&#45;&gt;1863743863552</title>\r\n",
       "<path fill=\"none\" stroke=\"black\" d=\"M172.882,-655.369C171.138,-646.069 168.309,-630.979 166.044,-618.9\"/>\r\n",
       "<polygon fill=\"black\" stroke=\"black\" points=\"169.453,-618.089 164.17,-608.905 162.573,-619.379 169.453,-618.089\"/>\r\n",
       "</g>\r\n",
       "<!-- 1863743863832 -->\r\n",
       "<g id=\"node17\" class=\"node\"><title>1863743863832</title>\r\n",
       "<polygon fill=\"lightgrey\" stroke=\"black\" points=\"225,-740.5 124,-740.5 124,-721.5 225,-721.5 225,-740.5\"/>\r\n",
       "<text text-anchor=\"middle\" x=\"174.5\" y=\"-728.5\" font-family=\"monospace\" font-size=\"10.00\">AccumulateGrad</text>\r\n",
       "</g>\r\n",
       "<!-- 1863743863832&#45;&gt;1863743863720 -->\r\n",
       "<g id=\"edge15\" class=\"edge\"><title>1863743863832&#45;&gt;1863743863720</title>\r\n",
       "<path fill=\"none\" stroke=\"black\" d=\"M174.5,-721.369C174.5,-712.164 174.5,-697.287 174.5,-685.271\"/>\r\n",
       "<polygon fill=\"black\" stroke=\"black\" points=\"178,-684.905 174.5,-674.905 171,-684.905 178,-684.905\"/>\r\n",
       "</g>\r\n",
       "<!-- 1863733808728 -->\r\n",
       "<g id=\"node18\" class=\"node\"><title>1863733808728</title>\r\n",
       "<polygon fill=\"lightblue\" stroke=\"black\" points=\"213,-812 136,-812 136,-782 213,-782 213,-812\"/>\r\n",
       "<text text-anchor=\"middle\" x=\"174.5\" y=\"-800\" font-family=\"monospace\" font-size=\"10.00\">fc1.weight</text>\r\n",
       "<text text-anchor=\"middle\" x=\"174.5\" y=\"-789\" font-family=\"monospace\" font-size=\"10.00\"> (64, 37)</text>\r\n",
       "</g>\r\n",
       "<!-- 1863733808728&#45;&gt;1863743863832 -->\r\n",
       "<g id=\"edge16\" class=\"edge\"><title>1863733808728&#45;&gt;1863743863832</title>\r\n",
       "<path fill=\"none\" stroke=\"black\" d=\"M174.5,-781.796C174.5,-772.699 174.5,-760.788 174.5,-750.897\"/>\r\n",
       "<polygon fill=\"black\" stroke=\"black\" points=\"178,-750.844 174.5,-740.844 171,-750.844 178,-750.844\"/>\r\n",
       "</g>\r\n",
       "<!-- 1863743863440 -->\r\n",
       "<g id=\"node19\" class=\"node\"><title>1863743863440</title>\r\n",
       "<polygon fill=\"lightgrey\" stroke=\"black\" points=\"310,-548 239,-548 239,-529 310,-529 310,-548\"/>\r\n",
       "<text text-anchor=\"middle\" x=\"274.5\" y=\"-536\" font-family=\"monospace\" font-size=\"10.00\">TBackward</text>\r\n",
       "</g>\r\n",
       "<!-- 1863743863440&#45;&gt;1863743863216 -->\r\n",
       "<g id=\"edge17\" class=\"edge\"><title>1863743863440&#45;&gt;1863743863216</title>\r\n",
       "<path fill=\"none\" stroke=\"black\" d=\"M258.564,-528.868C240.857,-519.277 212.039,-503.667 191.36,-492.466\"/>\r\n",
       "<polygon fill=\"black\" stroke=\"black\" points=\"192.961,-489.353 182.501,-487.667 189.627,-495.508 192.961,-489.353\"/>\r\n",
       "</g>\r\n",
       "<!-- 1863743863608 -->\r\n",
       "<g id=\"node20\" class=\"node\"><title>1863743863608</title>\r\n",
       "<polygon fill=\"lightgrey\" stroke=\"black\" points=\"329,-608.5 228,-608.5 228,-589.5 329,-589.5 329,-608.5\"/>\r\n",
       "<text text-anchor=\"middle\" x=\"278.5\" y=\"-596.5\" font-family=\"monospace\" font-size=\"10.00\">AccumulateGrad</text>\r\n",
       "</g>\r\n",
       "<!-- 1863743863608&#45;&gt;1863743863440 -->\r\n",
       "<g id=\"edge18\" class=\"edge\"><title>1863743863608&#45;&gt;1863743863440</title>\r\n",
       "<path fill=\"none\" stroke=\"black\" d=\"M277.91,-589.368C277.354,-581.246 276.504,-568.807 275.791,-558.385\"/>\r\n",
       "<polygon fill=\"black\" stroke=\"black\" points=\"279.267,-557.905 275.093,-548.167 272.283,-558.383 279.267,-557.905\"/>\r\n",
       "</g>\r\n",
       "<!-- 1863733805632 -->\r\n",
       "<g id=\"node21\" class=\"node\"><title>1863733805632</title>\r\n",
       "<polygon fill=\"lightblue\" stroke=\"black\" points=\"317,-680 240,-680 240,-650 317,-650 317,-680\"/>\r\n",
       "<text text-anchor=\"middle\" x=\"278.5\" y=\"-668\" font-family=\"monospace\" font-size=\"10.00\">fc2.weight</text>\r\n",
       "<text text-anchor=\"middle\" x=\"278.5\" y=\"-657\" font-family=\"monospace\" font-size=\"10.00\"> (64, 64)</text>\r\n",
       "</g>\r\n",
       "<!-- 1863733805632&#45;&gt;1863743863608 -->\r\n",
       "<g id=\"edge19\" class=\"edge\"><title>1863733805632&#45;&gt;1863743863608</title>\r\n",
       "<path fill=\"none\" stroke=\"black\" d=\"M278.5,-649.796C278.5,-640.699 278.5,-628.788 278.5,-618.897\"/>\r\n",
       "<polygon fill=\"black\" stroke=\"black\" points=\"282,-618.844 278.5,-608.844 275,-618.844 282,-618.844\"/>\r\n",
       "</g>\r\n",
       "<!-- 1863743862992 -->\r\n",
       "<g id=\"node22\" class=\"node\"><title>1863743862992</title>\r\n",
       "<polygon fill=\"lightgrey\" stroke=\"black\" points=\"313,-361 242,-361 242,-342 313,-342 313,-361\"/>\r\n",
       "<text text-anchor=\"middle\" x=\"277.5\" y=\"-349\" font-family=\"monospace\" font-size=\"10.00\">TBackward</text>\r\n",
       "</g>\r\n",
       "<!-- 1863743862992&#45;&gt;1863743861200 -->\r\n",
       "<g id=\"edge20\" class=\"edge\"><title>1863743862992&#45;&gt;1863743861200</title>\r\n",
       "<path fill=\"none\" stroke=\"black\" d=\"M260.951,-341.985C244.606,-333.574 219.366,-320.586 200.37,-310.812\"/>\r\n",
       "<polygon fill=\"black\" stroke=\"black\" points=\"201.843,-307.634 191.35,-306.17 198.64,-313.858 201.843,-307.634\"/>\r\n",
       "</g>\r\n",
       "<!-- 1863743863160 -->\r\n",
       "<g id=\"node23\" class=\"node\"><title>1863743863160</title>\r\n",
       "<polygon fill=\"lightgrey\" stroke=\"black\" points=\"333,-421.5 232,-421.5 232,-402.5 333,-402.5 333,-421.5\"/>\r\n",
       "<text text-anchor=\"middle\" x=\"282.5\" y=\"-409.5\" font-family=\"monospace\" font-size=\"10.00\">AccumulateGrad</text>\r\n",
       "</g>\r\n",
       "<!-- 1863743863160&#45;&gt;1863743862992 -->\r\n",
       "<g id=\"edge21\" class=\"edge\"><title>1863743863160&#45;&gt;1863743862992</title>\r\n",
       "<path fill=\"none\" stroke=\"black\" d=\"M281.762,-402.368C281.068,-394.246 280.005,-381.807 279.114,-371.385\"/>\r\n",
       "<polygon fill=\"black\" stroke=\"black\" points=\"282.58,-370.833 278.241,-361.167 275.605,-371.429 282.58,-370.833\"/>\r\n",
       "</g>\r\n",
       "<!-- 1863648917256 -->\r\n",
       "<g id=\"node24\" class=\"node\"><title>1863648917256</title>\r\n",
       "<polygon fill=\"lightblue\" stroke=\"black\" points=\"321,-493 244,-493 244,-463 321,-463 321,-493\"/>\r\n",
       "<text text-anchor=\"middle\" x=\"282.5\" y=\"-481\" font-family=\"monospace\" font-size=\"10.00\">fc3.weight</text>\r\n",
       "<text text-anchor=\"middle\" x=\"282.5\" y=\"-470\" font-family=\"monospace\" font-size=\"10.00\"> (5, 64)</text>\r\n",
       "</g>\r\n",
       "<!-- 1863648917256&#45;&gt;1863743863160 -->\r\n",
       "<g id=\"edge22\" class=\"edge\"><title>1863648917256&#45;&gt;1863743863160</title>\r\n",
       "<path fill=\"none\" stroke=\"black\" d=\"M282.5,-462.796C282.5,-453.699 282.5,-441.788 282.5,-431.897\"/>\r\n",
       "<polygon fill=\"black\" stroke=\"black\" points=\"286,-431.844 282.5,-421.844 279,-431.844 286,-431.844\"/>\r\n",
       "</g>\r\n",
       "<!-- 1863743861536 -->\r\n",
       "<g id=\"node25\" class=\"node\"><title>1863743861536</title>\r\n",
       "<polygon fill=\"lightgrey\" stroke=\"black\" points=\"259,-141 170,-141 170,-122 259,-122 259,-141\"/>\r\n",
       "<text text-anchor=\"middle\" x=\"214.5\" y=\"-129\" font-family=\"monospace\" font-size=\"10.00\">SubBackward0</text>\r\n",
       "</g>\r\n",
       "<!-- 1863743861536&#45;&gt;1863743861144 -->\r\n",
       "<g id=\"edge23\" class=\"edge\"><title>1863743861536&#45;&gt;1863743861144</title>\r\n",
       "<path fill=\"none\" stroke=\"black\" d=\"M208.225,-121.748C202.913,-114.339 195.145,-103.504 188.625,-94.4107\"/>\r\n",
       "<polygon fill=\"black\" stroke=\"black\" points=\"191.33,-92.1766 182.658,-86.089 185.641,-96.2554 191.33,-92.1766\"/>\r\n",
       "</g>\r\n",
       "<!-- 1863743862768&#45;&gt;1863743861536 -->\r\n",
       "<g id=\"edge24\" class=\"edge\"><title>1863743862768&#45;&gt;1863743861536</title>\r\n",
       "<path fill=\"none\" stroke=\"black\" d=\"M214.5,-231.662C214.5,-214.171 214.5,-174.805 214.5,-151.273\"/>\r\n",
       "<polygon fill=\"black\" stroke=\"black\" points=\"218,-151.158 214.5,-141.158 211,-151.158 218,-151.158\"/>\r\n",
       "</g>\r\n",
       "<!-- 1863743863048 -->\r\n",
       "<g id=\"node27\" class=\"node\"><title>1863743863048</title>\r\n",
       "<polygon fill=\"lightgrey\" stroke=\"black\" points=\"338,-196 243,-196 243,-177 338,-177 338,-196\"/>\r\n",
       "<text text-anchor=\"middle\" x=\"290.5\" y=\"-184\" font-family=\"monospace\" font-size=\"10.00\">MeanBackward1</text>\r\n",
       "</g>\r\n",
       "<!-- 1863743862768&#45;&gt;1863743863048 -->\r\n",
       "<g id=\"edge27\" class=\"edge\"><title>1863743862768&#45;&gt;1863743863048</title>\r\n",
       "<path fill=\"none\" stroke=\"black\" d=\"M226.711,-231.985C238.276,-223.919 255.875,-211.646 269.661,-202.033\"/>\r\n",
       "<polygon fill=\"black\" stroke=\"black\" points=\"271.867,-204.761 278.067,-196.17 267.863,-199.02 271.867,-204.761\"/>\r\n",
       "</g>\r\n",
       "<!-- 1863743863048&#45;&gt;1863743861536 -->\r\n",
       "<g id=\"edge26\" class=\"edge\"><title>1863743863048&#45;&gt;1863743861536</title>\r\n",
       "<path fill=\"none\" stroke=\"black\" d=\"M278.289,-176.985C266.724,-168.919 249.125,-156.646 235.339,-147.033\"/>\r\n",
       "<polygon fill=\"black\" stroke=\"black\" points=\"237.137,-144.02 226.933,-141.17 233.133,-149.761 237.137,-144.02\"/>\r\n",
       "</g>\r\n",
       "</g>\r\n",
       "</svg>\r\n"
      ],
      "text/plain": [
       "<graphviz.dot.Digraph at 0x1b1efca77b8>"
      ]
     },
     "execution_count": 28,
     "metadata": {},
     "output_type": "execute_result"
    }
   ],
   "source": [
    "model = DuelingDQN(37, 4, 42)\n",
    "x = Variable(torch.randn(1,37))\n",
    "y = model(x)\n",
    "             \n",
    "make_dot(y, params=dict(list(model.named_parameters())))"
   ]
  },
  {
   "cell_type": "markdown",
   "metadata": {
    "id": "ayUJa5Ag6Vqa"
   },
   "source": [
    "## 8: Run the Deep Q-Learning algorithm and training steps:\n",
    "\n",
    "The folloing cell provides the main training function. I have changed the required score for solving the environment from 13 to 17 for a little bit more of a challenge.\n",
    "\n"
   ]
  },
  {
   "cell_type": "code",
   "execution_count": 29,
   "metadata": {
    "id": "p3VHyqyN6Vqb",
    "outputId": "6c04dbb9-9d7f-4698-dcb0-2e7c6306e953",
    "scrolled": true
   },
   "outputs": [
    {
     "name": "stdout",
     "output_type": "stream",
     "text": [
      "Episode 100\tAverage Score: 0.23\t\n",
      "Episode 200\tAverage Score: 0.85\t\n",
      "Episode 300\tAverage Score: 1.45\t\n",
      "Episode 400\tAverage Score: 1.56\t\n",
      "Episode 500\tAverage Score: 1.45\t\n",
      "Episode 600\tAverage Score: 1.50\t\n",
      "Episode 700\tAverage Score: 2.30\t\n",
      "Episode 800\tAverage Score: 2.95\t\n",
      "Episode 900\tAverage Score: 3.31\t\n",
      "Episode 1000\tAverage Score: 4.36\t\n",
      "Episode 1100\tAverage Score: 5.43\t\n",
      "Episode 1200\tAverage Score: 5.27\t\n",
      "Episode 1300\tAverage Score: 4.96\t\n",
      "Episode 1400\tAverage Score: 5.45\t\n",
      "Episode 1500\tAverage Score: 5.76\t\n",
      "Episode 1600\tAverage Score: 6.64\t\n",
      "Episode 1700\tAverage Score: 6.24\t\n",
      "Episode 1800\tAverage Score: 7.46\t\n",
      "Episode 1900\tAverage Score: 6.61\t\n",
      "Episode 2000\tAverage Score: 6.16\t\n"
     ]
    },
    {
     "data": {
      "image/png": "[encoded data removed]",
      "text/plain": [
       "<Figure size 432x288 with 1 Axes>"
      ]
     },
     "metadata": {
      "needs_background": "light"
     },
     "output_type": "display_data"
    }
   ],
   "source": [
    "def dqn(n_episodes=2000, max_t=1000, eps_start=1.0, eps_end=0.01, eps_decay=0.95):\n",
    "    \"\"\"Deep Q-Learning.\n",
    "    \n",
    "    Params\n",
    "    ======\n",
    "        n_episodes (int): maximum number of training episodes\n",
    "        max_t (int): maximum number of timesteps per episode\n",
    "        eps_start (float): starting value of epsilon, for epsilon-greedy action selection\n",
    "        eps_end (float): minimum value of epsilon\n",
    "        eps_decay (float): multiplicative factor (per episode) for decreasing epsilon\n",
    "    \"\"\"\n",
    "    scores = []                        # list containing scores from each episode\n",
    "    scores_window = deque(maxlen=100)  # last 100 scores\n",
    "    eps = eps_start                    # initialize epsilon\n",
    "    count = 0                          # counter to Target update frequency\n",
    "    for i_episode in range(1, n_episodes+1):\n",
    "        env_info = env.reset(train_mode=True)[brain_name] # reset the environment\n",
    "        state = env_info.vector_observations[0]  # view 37 dimentional state vector  \n",
    "        score = 0 # Score per episode\n",
    "        for t in range(max_t):\n",
    "            count += 1\n",
    "            action = agent.act(state, eps)                 #Get epsilon-greedy action\n",
    "            env_info = env.step(action)[brain_name]        # send the action to the environment\n",
    "            next_state = env_info.vector_observations[0]   # get the next state\n",
    "            reward = env_info.rewards[0]                   # get the reward\n",
    "            done = env_info.local_done[0]                  # see if episode has finished\n",
    "            agent.step(state, action, reward, next_state, done, count) # Record results to experiance replay and perform learning \n",
    "            state = next_state\n",
    "            score += reward\n",
    "            \n",
    "            if count >= 1:\n",
    "                count = 0\n",
    "            if done:\n",
    "                break \n",
    "        scores_window.append(score)       # save most recent score\n",
    "        scores.append(score)              # save most recent score\n",
    "        eps = max(eps_end, eps_decay*eps) # decrease epsilon\n",
    "        \n",
    "        print('\\rEpisode {}\\tAverage Score: {:.2f}\\t'.format(i_episode, np.mean(scores_window)), end=\"\")\n",
    "\n",
    "        if i_episode % 100 == 0:\n",
    "            print('\\rEpisode {}\\tAverage Score: {:.2f}'.format(i_episode, np.mean(scores_window)))\n",
    "        if np.mean(scores_window)>=17.0:\n",
    "            print('\\nEnvironment solved in {:d} episodes!\\tAverage Score: {:.2f}'.format(i_episode-100, np.mean(scores_window)))\n",
    "            torch.save(agent.qnetwork_local.state_dict(), 'checkpoint.pth')\n",
    "            break\n",
    "    return scores\n",
    "\n",
    "scores = dqn()\n",
    "\n",
    "# plot the scores\n",
    "fig = plt.figure()\n",
    "ax = fig.add_subplot(111)\n",
    "plt.plot(np.arange(len(scores)), scores)\n",
    "plt.ylabel('Score')\n",
    "plt.xlabel('Episode #')\n",
    "plt.show()"
   ]
  },
  {
   "cell_type": "markdown",
   "metadata": {
    "id": "K1JlvucX6Vqc"
   },
   "source": [
    "## 9 Load the saved weights for the network"
   ]
  },
  {
   "cell_type": "code",
   "execution_count": null,
   "metadata": {
    "id": "N-9kxX8b6Vqc",
    "outputId": "4765145d-cd41-44f1-8aa7-14b3e162f966"
   },
   "outputs": [
    {
     "data": {
      "text/plain": [
       "<All keys matched successfully>"
      ]
     },
     "execution_count": 12,
     "metadata": {
      "tags": []
     },
     "output_type": "execute_result"
    }
   ],
   "source": [
    "agent.qnetwork_local.load_state_dict(torch.load('checkpoint.pth'))"
   ]
  },
  {
   "cell_type": "markdown",
   "metadata": {
    "id": "lLFcfwQ36Vqc"
   },
   "source": [
    "## 10: Now sit back and watch the MASTER trained network collect Bannanas."
   ]
  },
  {
   "cell_type": "code",
   "execution_count": null,
   "metadata": {
    "id": "C4HGDyly6Vqc",
    "outputId": "a6f63289-c8b4-4d4d-ba30-4989041775b3"
   },
   "outputs": [
    {
     "name": "stdout",
     "output_type": "stream",
     "text": [
      "Score: 12.0\n"
     ]
    }
   ],
   "source": [
    "\n",
    "# watch the Master agent\n",
    "env_info = env.reset(train_mode=False)[brain_name] # reset the environment\n",
    "state = env_info.vector_observations[0]            # get the current state\n",
    "score = 0                                          # initialize the score\n",
    "while True:\n",
    "    action = agent.act(state)\n",
    "    env_info = env.step(action)[brain_name]        # send the action to the environment\n",
    "    next_state = env_info.vector_observations[0]   # get the next state\n",
    "    reward = env_info.rewards[0]                   # get the reward\n",
    "    done = env_info.local_done[0]                  # see if episode has finished\n",
    "    score += reward                                # update the score\n",
    "    state = next_state                             # roll over the state to next time step\n",
    "    if done:                                       # exit loop if episode finished\n",
    "        break\n",
    "    \n",
    "print(\"Score: {}\".format(score))"
   ]
  },
  {
   "cell_type": "code",
   "execution_count": null,
   "metadata": {
    "id": "hvBzlI5Q6Vqd"
   },
   "outputs": [],
   "source": [
    "env.close()"
   ]
  },
  {
   "cell_type": "code",
   "execution_count": null,
   "metadata": {
    "id": "WPP78Y9t6Vqd"
   },
   "outputs": [],
   "source": []
  }
 ],
 "metadata": {
  "accelerator": "GPU",
  "anaconda-cloud": {},
  "colab": {
   "collapsed_sections": [],
   "name": "results.ipynb",
   "provenance": []
  },
  "kernelspec": {
   "display_name": "robodriver",
   "language": "python",
   "name": "python3"
  },
  "language_info": {
   "codemirror_mode": {
    "name": "ipython",
    "version": 3
   },
   "file_extension": ".py",
   "mimetype": "text/x-python",
   "name": "python",
   "nbconvert_exporter": "python",
   "pygments_lexer": "ipython3",
   "version": "3.8.15"
  },
  "metadata": {
   "interpreter": {
    "hash": "563da03117adc5d762b35a126dd805fc61707de33f8d1723ff15d9d2bb685b9a"
   }
  },
  "vscode": {
   "interpreter": {
    "hash": "4942a0579b8a57b11f024bd8a4b0d9a00ae3c67bd1e1faa1809f820116fb1c06"
   }
  }
 },
 "nbformat": 4,
 "nbformat_minor": 1
}
